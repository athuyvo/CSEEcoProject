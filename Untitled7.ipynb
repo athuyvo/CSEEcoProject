{
 "cells": [
  {
   "cell_type": "code",
   "execution_count": 48,
   "metadata": {
    "collapsed": false
   },
   "outputs": [
    {
     "name": "stdout",
     "output_type": "stream",
     "text": [
      "[[ 1.  ]\n",
      " [ 0.04]\n",
      " [ 2.  ]\n",
      " [ 0.5 ]\n",
      " [ 0.  ]]\n",
      "[[  5.00220000e-02   0.00000000e+00   0.00000000e+00   0.00000000e+00\n",
      "    0.00000000e+00]\n",
      " [ -2.45940000e+01   1.35200000e-01   0.00000000e+00   0.00000000e+00\n",
      "    0.00000000e+00]\n",
      " [  0.00000000e+00  -3.78400000e+00   2.02500000e+00   0.00000000e+00\n",
      "    0.00000000e+00]\n",
      " [  0.00000000e+00   0.00000000e+00  -1.20000000e+01   8.00000000e+01\n",
      "    0.00000000e+00]\n",
      " [  0.00000000e+00   0.00000000e+00   0.00000000e+00  -2.85714000e+02\n",
      "    7.20000000e+00]]\n",
      "[[  1.99912039e+01]\n",
      " [  3.63686145e+03]\n",
      " [  6.79697962e+03]\n",
      " [  1.01955319e+03]\n",
      " [  4.04584196e+04]]\n"
     ]
    },
    {
     "ename": "AttributeError",
     "evalue": "'NewData' object has no attribute 'DataMatix'",
     "output_type": "error",
     "traceback": [
      "\u001b[0;31m---------------------------------------------------------------------------\u001b[0m",
      "\u001b[0;31mAttributeError\u001b[0m                            Traceback (most recent call last)",
      "\u001b[0;32m<ipython-input-48-3ed3f426f759>\u001b[0m in \u001b[0;36m<module>\u001b[0;34m()\u001b[0m\n\u001b[1;32m     12\u001b[0m \u001b[0;34m\u001b[0m\u001b[0m\n\u001b[1;32m     13\u001b[0m \u001b[0my\u001b[0m \u001b[0;34m=\u001b[0m \u001b[0mNewData\u001b[0m\u001b[0;34m(\u001b[0m\u001b[0;34m'marine_data_2.csv'\u001b[0m\u001b[0;34m)\u001b[0m\u001b[0;34m\u001b[0m\u001b[0m\n\u001b[0;32m---> 14\u001b[0;31m \u001b[0mNewBioMass\u001b[0m \u001b[0;34m=\u001b[0m \u001b[0my\u001b[0m\u001b[0;34m.\u001b[0m\u001b[0mDataMatix\u001b[0m\u001b[0;34m(\u001b[0m\u001b[0;34m)\u001b[0m\u001b[0;34m\u001b[0m\u001b[0m\n\u001b[0m\u001b[1;32m     15\u001b[0m \u001b[0;32mprint\u001b[0m \u001b[0mNewBioMass\u001b[0m\u001b[0;34m\u001b[0m\u001b[0m\n\u001b[1;32m     16\u001b[0m \u001b[0;34m\u001b[0m\u001b[0m\n",
      "\u001b[0;31mAttributeError\u001b[0m: 'NewData' object has no attribute 'DataMatix'"
     ]
    }
   ],
   "source": [
    "from csv_raw_file_reader import RawData\n",
    "from csv_new_file_reader import NewData\n",
    "\n",
    "import math\n",
    "import numpy as np\n",
    "import matplotlib.pyplot as plt\n",
    "\n",
    "\n",
    "x = RawData('marine_data.csv')\n",
    "BioMass = x.DataMatrix()\n",
    "print BioMass\n",
    "\n",
    "y = NewData('marine_data_2.csv')\n",
    "NewBioMass = y.DataMatix()\n",
    "print NewBioMass\n",
    "\n",
    "n_groups = 5\n",
    "fig, ax = plt.subplots()\n",
    "index = np.arange(n_groups)\n",
    "bar_width = 0.35\n",
    "opacity = 0.4\n",
    "    \n",
    "origBiomass =plt.bar(index, initBiomass, bar_width,\n",
    "                alpha=opacity,\n",
    "                color='b',\n",
    "                label='initial data')\n",
    "            \n",
    "newBiomass = plt.bar(index, changedBiomass, bar_width,\n",
    "                alpha=opacity,\n",
    "                color='r',\n",
    "                label='new data')\n",
    "        \n",
    " \n",
    "plt.xlabel('Animals')\n",
    "plt.ylabel('Biomass (kg)')\n",
    "plt.title('Ecosystem Model: Biomass')\n",
    "plt.xticks(index + bar_width, ('Harbor Seals', 'Pacific Cod', 'Shrimp', 'Microzooplankton', 'Gelatinous Zooplankton'))\n",
    "plt.legend()\n",
    "\n",
    "plt.tight_layout()\n",
    "plt.show()\n",
    "    "
   ]
  },
  {
   "cell_type": "code",
   "execution_count": 49,
   "metadata": {
    "collapsed": false
   },
   "outputs": [
    {
     "ename": "TypeError",
     "evalue": "plotBiomassData() takes exactly 1 argument (0 given)",
     "output_type": "error",
     "traceback": [
      "\u001b[0;31m---------------------------------------------------------------------------\u001b[0m",
      "\u001b[0;31mTypeError\u001b[0m                                 Traceback (most recent call last)",
      "\u001b[0;32m<ipython-input-49-1a79a72f1088>\u001b[0m in \u001b[0;36m<module>\u001b[0;34m()\u001b[0m\n\u001b[0;32m----> 1\u001b[0;31m \u001b[0mplotBiomassData\u001b[0m\u001b[0;34m(\u001b[0m\u001b[0;34m)\u001b[0m\u001b[0;34m\u001b[0m\u001b[0m\n\u001b[0m",
      "\u001b[0;31mTypeError\u001b[0m: plotBiomassData() takes exactly 1 argument (0 given)"
     ]
    }
   ],
   "source": [
    "plotBiomassData()"
   ]
  },
  {
   "cell_type": "code",
   "execution_count": null,
   "metadata": {
    "collapsed": true
   },
   "outputs": [],
   "source": []
  },
  {
   "cell_type": "code",
   "execution_count": null,
   "metadata": {
    "collapsed": true
   },
   "outputs": [],
   "source": []
  },
  {
   "cell_type": "code",
   "execution_count": null,
   "metadata": {
    "collapsed": true
   },
   "outputs": [],
   "source": []
  },
  {
   "cell_type": "code",
   "execution_count": null,
   "metadata": {
    "collapsed": true
   },
   "outputs": [],
   "source": []
  }
 ],
 "metadata": {
  "kernelspec": {
   "display_name": "Python 2",
   "language": "python",
   "name": "python2"
  },
  "language_info": {
   "codemirror_mode": {
    "name": "ipython",
    "version": 2
   },
   "file_extension": ".py",
   "mimetype": "text/x-python",
   "name": "python",
   "nbconvert_exporter": "python",
   "pygments_lexer": "ipython2",
   "version": "2.7.9"
  }
 },
 "nbformat": 4,
 "nbformat_minor": 0
}
