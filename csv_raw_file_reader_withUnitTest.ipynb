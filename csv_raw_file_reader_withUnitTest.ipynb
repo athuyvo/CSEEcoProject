{
 "cells": [
  {
   "cell_type": "code",
   "execution_count": 1,
   "metadata": {
    "collapsed": true
   },
   "outputs": [],
   "source": [
    "#Team Seals\n",
    "#Heather, Mitchell, Ricky, Anh \n",
    "#Reads original CSV data"
   ]
  },
  {
   "cell_type": "code",
   "execution_count": 1,
   "metadata": {
    "collapsed": false
   },
   "outputs": [
    {
     "name": "stdout",
     "output_type": "stream",
     "text": [
      "Enter filename in \"quotes\": \"marine_data.csv\"\n",
      "marine data,,,\n",
      "\n",
      "harbor seals,0.050022,-24.594,0.03\n",
      "\n",
      "pacific cod,0.1352,-3.784,0.04\n",
      "\n",
      "shrimp,2.025,-12,0.02\n",
      "\n",
      "microzooplankton,80,-285.714,0.5\n",
      "\n",
      "small gelatinous zooplankton,7.2,-30,0\n",
      "\n"
     ]
    }
   ],
   "source": [
    "filename = input('Enter filename in \"quotes\": ')\n",
    "try:\n",
    "  for line in open(filename, 'r'):\n",
    "    print line\n",
    "except Exception as e:\n",
    "    print \"File %s not found.\" % filename"
   ]
  },
  {
   "cell_type": "code",
   "execution_count": 2,
   "metadata": {
    "collapsed": true
   },
   "outputs": [],
   "source": [
    "import numpy as np"
   ]
  },
  {
   "cell_type": "code",
   "execution_count": 3,
   "metadata": {
    "collapsed": false,
    "scrolled": true
   },
   "outputs": [],
   "source": [
    "class RawData(object):\n",
    "    def __init__ (self, filename):\n",
    "        self.filename = filename \n",
    "        self.headers = None\n",
    "        self.data = None\n",
    "    \n",
    "    def read(self):\n",
    "        got_header = False \n",
    "        for line in open(self.filename, 'r'):\n",
    "         fields = line.strip().split(\",\")\n",
    "         if not got_header:\n",
    "            self.headers.np.append(fields[0])\n",
    "            self.headers.np.append(fields[1])\n",
    "            self.headers.np.append(fields[2]) \n",
    "            self.headers.np.append(fields[3])\n",
    "            self.headers.np.append(fields[4])\n",
    "            got_header = True\n",
    "         else: \n",
    "            self.data[0].np.append(float(fields[0]))\n",
    "            self.data[1].np.append(float(fields[1]))\n",
    "            self.data[2].np.append(float(fields[2]))\n",
    "            self.data[3].np.append(float(fields[3]))\n",
    "            self.data[4].np.append(float(fields[4]))\n",
    "    \n",
    "    def getParVar(self):\n",
    "        return self.headers\n",
    "    \n",
    "    def GetData(self):\n",
    "        return self.data\n",
    "    \n",
    "    def GetCol(self, ColNum):\n",
    "        return self.data[:,ColNum]\n",
    "    \n",
    "    def DataMatrix(self):\n",
    "        data = np.genfromtxt(filename, delimiter = ',')     \n",
    "        x = data[1:, 1:]\n",
    "        matrix = np.matrix([[x[0][0], 0, 0, 0, 0],[x[0][1], x[1][0], 0, 0, 0], [0, x[1][1], x[2][0], 0, 0], [0, 0, x[2][1],x[3][0],0], [0, 0, 0, x[3][1],x[4][0]]])\n",
    "        BA = np.matrix(x[:, 2])\n",
    "        tBA = np.transpose(BA)\n",
    "        BioMass = np.linalg.solve(matrix,tBA)\n",
    "        print tBA   \n",
    "        print matrix\n",
    "        return BioMass\n",
    "    \n"
   ]
  },
  {
   "cell_type": "code",
   "execution_count": 4,
   "metadata": {
    "collapsed": false
   },
   "outputs": [
    {
     "name": "stdout",
     "output_type": "stream",
     "text": [
      "[[ 0.03]\n",
      " [ 0.04]\n",
      " [ 0.02]\n",
      " [ 0.5 ]\n",
      " [ 0.  ]]\n",
      "[[  5.00220000e-02   0.00000000e+00   0.00000000e+00   0.00000000e+00\n",
      "    0.00000000e+00]\n",
      " [ -2.45940000e+01   1.35200000e-01   0.00000000e+00   0.00000000e+00\n",
      "    0.00000000e+00]\n",
      " [  0.00000000e+00  -3.78400000e+00   2.02500000e+00   0.00000000e+00\n",
      "    0.00000000e+00]\n",
      " [  0.00000000e+00   0.00000000e+00  -1.20000000e+01   8.00000000e+01\n",
      "    0.00000000e+00]\n",
      " [  0.00000000e+00   0.00000000e+00   0.00000000e+00  -2.85714000e+02\n",
      "    7.20000000e+00]]\n"
     ]
    },
    {
     "data": {
      "text/plain": [
       "matrix([[  5.99736116e-01],\n",
       "        [  1.09392826e+02],\n",
       "        [  2.04425903e+02],\n",
       "        [  3.06701354e+01],\n",
       "        [  1.21706765e+03]])"
      ]
     },
     "execution_count": 4,
     "metadata": {},
     "output_type": "execute_result"
    }
   ],
   "source": [
    "RD = RawData(filename)\n",
    "RD.DataMatrix()"
   ]
  },
  {
   "cell_type": "code",
   "execution_count": null,
   "metadata": {
    "collapsed": true
   },
   "outputs": [],
   "source": []
  },
  {
   "cell_type": "code",
   "execution_count": null,
   "metadata": {
    "collapsed": true
   },
   "outputs": [],
   "source": []
  },
  {
   "cell_type": "code",
   "execution_count": null,
   "metadata": {
    "collapsed": true
   },
   "outputs": [],
   "source": []
  }
 ],
 "metadata": {
  "kernelspec": {
   "display_name": "Python 2",
   "language": "python",
   "name": "python2"
  },
  "language_info": {
   "codemirror_mode": {
    "name": "ipython",
    "version": 2
   },
   "file_extension": ".py",
   "mimetype": "text/x-python",
   "name": "python",
   "nbconvert_exporter": "python",
   "pygments_lexer": "ipython2",
   "version": "2.7.9"
  }
 },
 "nbformat": 4,
 "nbformat_minor": 0
}
