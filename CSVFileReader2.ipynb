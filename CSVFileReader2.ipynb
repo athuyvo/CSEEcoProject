{
 "cells": [
  {
   "cell_type": "code",
   "execution_count": null,
   "metadata": {
    "collapsed": true
   },
   "outputs": [],
   "source": [
    "#Team Seals\n",
    "#Reads CSV file with new parameters, need to update names for variables and stuff"
   ]
  },
  {
   "cell_type": "code",
   "execution_count": 1,
   "metadata": {
    "collapsed": true
   },
   "outputs": [],
   "source": [
    "import numpy as np"
   ]
  },
  {
   "cell_type": "code",
   "execution_count": 3,
   "metadata": {
    "collapsed": false
   },
   "outputs": [
    {
     "name": "stdout",
     "output_type": "stream",
     "text": [
      "[[  1.00000000e-02]\n",
      " [  2.00000000e-02]\n",
      " [  3.00000000e-01]\n",
      " [  5.00000000e-01]\n",
      " [  1.00000000e-04]]\n",
      "[[  5.00220000e-02   0.00000000e+00   0.00000000e+00   0.00000000e+00\n",
      "    0.00000000e+00]\n",
      " [ -2.45940000e+01   1.35200000e-01   0.00000000e+00   0.00000000e+00\n",
      "    0.00000000e+00]\n",
      " [  0.00000000e+00  -3.78400000e+00   2.02500000e+00   0.00000000e+00\n",
      "    0.00000000e+00]\n",
      " [  0.00000000e+00   0.00000000e+00  -1.20000000e+01   8.00000000e+01\n",
      "    0.00000000e+00]\n",
      " [  0.00000000e+00   0.00000000e+00   0.00000000e+00  -2.85714000e+02\n",
      "    7.20000000e+00]]\n",
      "[[  1.99912039e-01]\n",
      " [  3.65135849e+01]\n",
      " [  6.83789656e+01]\n",
      " [  1.02630948e+01]\n",
      " [  4.07265275e+02]]\n"
     ]
    },
    {
     "data": {
      "text/plain": [
       "matrix([[  1.99912039e-01],\n",
       "        [  3.65135849e+01],\n",
       "        [  6.83789656e+01],\n",
       "        [  1.02630948e+01],\n",
       "        [  4.07265275e+02]])"
      ]
     },
     "execution_count": 3,
     "metadata": {},
     "output_type": "execute_result"
    }
   ],
   "source": [
    "class RawData(object):\n",
    "    def __init__ (self, filename):\n",
    "        self.filename = filename \n",
    "        self.headers = None\n",
    "        self.data = None\n",
    "    \n",
    "    def read(self):\n",
    "        got_header = False \n",
    "        for line in open(self.filename, 'r'):\n",
    "         fields = line.strip().split(\",\")\n",
    "         if not got_header:\n",
    "            self.headers.np.append(fields[0])\n",
    "            self.headers.np.append(fields[1])\n",
    "            self.headers.np.append(fields[2]) \n",
    "            self.headers.np.append(fields[3])\n",
    "            self.headers.np.append(fields[4])\n",
    "            got_header = True\n",
    "         else: \n",
    "            self.data[0].np.append(float(fields[0]))\n",
    "            self.data[1].np.append(float(fields[1]))\n",
    "            self.data[2].np.append(float(fields[2]))\n",
    "            self.data[3].np.append(float(fields[3]))\n",
    "            self.data[4].np.append(float(fields[4]))\n",
    "    \n",
    "    def getParVar(self):\n",
    "        return self.headers\n",
    "    \n",
    "    def GetData(self):\n",
    "        return self.data\n",
    "    \n",
    "    def GetCol(self, ColNum):\n",
    "        return self.data[:,ColNum]\n",
    "    \n",
    "    def DataMatrix(self):\n",
    "        data = np.genfromtxt('marine_data_2.csv', delimiter = ',')       \n",
    "        x = data[1:, 1:]\n",
    "        matrix = np.matrix([[x[0][0], 0, 0, 0, 0],[x[0][1], x[1][0], 0, 0, 0], [0, x[1][1], x[2][0], 0, 0], [0, 0, x[2][1],x[3][0],0], [0, 0, 0, x[3][1],x[4][0]]])\n",
    "        zeros = np.matrix(x[:, 2])\n",
    "        tzero = np.transpose(zeros)\n",
    "        NewBioMass = np.linalg.solve(matrix,tzero)\n",
    "        print tzero   \n",
    "        print matrix\n",
    "        print NewBioMass\n",
    "        return NewBioMass\n",
    "    \n",
    "RD = RawData('marine_data_2.csv')\n",
    "RD.DataMatrix()"
   ]
  },
  {
   "cell_type": "code",
   "execution_count": null,
   "metadata": {
    "collapsed": true
   },
   "outputs": [],
   "source": []
  },
  {
   "cell_type": "code",
   "execution_count": null,
   "metadata": {
    "collapsed": true
   },
   "outputs": [],
   "source": []
  }
 ],
 "metadata": {
  "kernelspec": {
   "display_name": "Python 2",
   "language": "python",
   "name": "python2"
  },
  "language_info": {
   "codemirror_mode": {
    "name": "ipython",
    "version": 2
   },
   "file_extension": ".py",
   "mimetype": "text/x-python",
   "name": "python",
   "nbconvert_exporter": "python",
   "pygments_lexer": "ipython2",
   "version": "2.7.9"
  }
 },
 "nbformat": 4,
 "nbformat_minor": 0
}
