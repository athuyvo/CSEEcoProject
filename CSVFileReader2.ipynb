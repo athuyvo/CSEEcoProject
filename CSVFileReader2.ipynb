{
 "cells": [
  {
   "cell_type": "code",
   "execution_count": null,
   "metadata": {
    "collapsed": true
   },
   "outputs": [],
   "source": [
    "import numpy as np"
   ]
  },
  {
   "cell_type": "code",
   "execution_count": null,
   "metadata": {
    "collapsed": true
   },
   "outputs": [],
   "source": [
    "class RawData(object):\n",
    "    def __init__ (self, filename):\n",
    "        self.filename = filename \n",
    "        self.headers = None\n",
    "        self.data = None\n",
    "    \n",
    "    def read(self):\n",
    "        got_header = False \n",
    "        for line in open(self.filename, 'r'):\n",
    "         fields = line.strip().split(\",\")\n",
    "         if not got_header:\n",
    "            self.headers.np.append(fields[0])\n",
    "            self.headers.np.append(fields[1])\n",
    "            self.headers.np.append(fields[2]) \n",
    "            self.headers.np.append(fields[3])\n",
    "            self.headers.np.append(fields[4])\n",
    "            got_header = True\n",
    "         else: \n",
    "            self.data[0].np.append(float(fields[0]))\n",
    "            self.data[1].np.append(float(fields[1]))\n",
    "            self.data[2].np.append(float(fields[2]))\n",
    "            self.data[3].np.append(float(fields[3]))\n",
    "            self.data[4].np.append(float(fields[4]))\n",
    "    \n",
    "    def getParVar(self):\n",
    "        return self.headers\n",
    "    \n",
    "    def GetData(self):\n",
    "        return self.data\n",
    "    \n",
    "    def GetCol(self, ColNum):\n",
    "        return self.data[:,ColNum]\n",
    "    \n",
    "    def DataMatrix(self):\n",
    "        data = np.genfromtxt('marine_data_2.csv', delimiter = ',')       \n",
    "        x = data[1:, 1:]\n",
    "        matrix = np.matrix([[x[0][0], 0, 0, 0, 0],[x[0][1], x[1][0], 0, 0, 0], [0, x[1][1], x[2][0], 0, 0], [0, 0, x[2][1],x[3][0],0], [0, 0, 0, x[3][1],x[4][0]]])\n",
    "        zeros = np.matrix(x[:, 2])\n",
    "        tzero = np.transpose(zeros)\n",
    "        NewBioMass = np.linalg.solve(matrix,tzero)\n",
    "        print tzero   \n",
    "        print matrix\n",
    "        print NewBioMass\n",
    "        return NewBioMass\n",
    "    \n",
    "    RD = RawData('marine_data_2.csv')\n",
    "RD.DataMatrix()"
   ]
  }
 ],
 "metadata": {
  "kernelspec": {
   "display_name": "Python 2",
   "language": "python",
   "name": "python2"
  },
  "language_info": {
   "codemirror_mode": {
    "name": "ipython",
    "version": 2
   },
   "file_extension": ".py",
   "mimetype": "text/x-python",
   "name": "python",
   "nbconvert_exporter": "python",
   "pygments_lexer": "ipython2",
   "version": "2.7.9"
  }
 },
 "nbformat": 4,
 "nbformat_minor": 0
}
