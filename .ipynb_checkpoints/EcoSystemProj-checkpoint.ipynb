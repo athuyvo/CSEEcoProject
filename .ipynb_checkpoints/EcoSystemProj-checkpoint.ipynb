{
 "cells": [
  {
   "cell_type": "code",
   "execution_count": 1,
   "metadata": {
    "collapsed": true
   },
   "outputs": [],
   "source": [
    "#Team Seals\n",
    "#Heather, Mitchell, Ricky, Anh "
   ]
  },
  {
   "cell_type": "code",
   "execution_count": 2,
   "metadata": {
    "collapsed": true
   },
   "outputs": [],
   "source": [
    "from numpy import *"
   ]
  },
  {
   "cell_type": "code",
   "execution_count": 3,
   "metadata": {
    "collapsed": false,
    "scrolled": true
   },
   "outputs": [],
   "source": [
    "class RawData(object):\n",
    "    def __init__ (self, filename):\n",
    "        self.filename = filename \n",
    "        self.headers = None\n",
    "        self.data = None\n",
    "    \n",
    "    def read(self):\n",
    "        got_header = False \n",
    "        for line in open(self.filename, 'r'):\n",
    "         fields = line.strip().split(\",\")\n",
    "         if not got_header:\n",
    "            self.headers.append(fields[0])\n",
    "            self.headers.append(fields[1])\n",
    "            self.headers.append(fields[2]) \n",
    "            self.headers.append(fields[3])\n",
    "            self.headers.append(fields[4])\n",
    "            got_header = True\n",
    "         else: \n",
    "            self.data[0].append(float(fields[0]))\n",
    "            self.data[1].append(float(fields[1]))\n",
    "            self.data[2].append(float(fields[2]))\n",
    "            self.data[3].append(float(fields[3]))\n",
    "            self.data[4].append(float(fields[4]))\n",
    "    \n",
    "    def getParVar(self):\n",
    "        return self.headers\n",
    "    \n",
    "    def GetData(self):\n",
    "        return self.data\n",
    "    \n",
    "    def GetCol(self, ColNum):\n",
    "        return self.data[:,ColNum]\n",
    "    \n",
    "    def DataMatrix(self):\n",
    "        data = genfromtxt('marine_data.csv', delimiter = ',')\n",
    "        x = data[1:, 1:]\n",
    "        return x\n",
    "    "
   ]
  },
  {
   "cell_type": "code",
   "execution_count": 5,
   "metadata": {
    "collapsed": false
   },
   "outputs": [
    {
     "data": {
      "text/plain": [
       "array([[  1.26000000e-01,   3.97000000e-01,   2.45940000e+01,\n",
       "          1.00000000e+00],\n",
       "       [  2.60000000e-01,   5.20000000e-01,   3.78400000e+00,\n",
       "          1.00000000e+00],\n",
       "       [  2.25000000e+00,   9.00000000e-01,   1.20000000e+01,\n",
       "          1.00000000e+00],\n",
       "       [  1.00000000e+02,   8.00000000e-01,   2.85714000e+02,\n",
       "          1.00000000e+00],\n",
       "       [  1.00000000e+02,   5.00000000e-01,   0.00000000e+00,\n",
       "          1.00000000e+00]])"
      ]
     },
     "execution_count": 5,
     "metadata": {},
     "output_type": "execute_result"
    }
   ],
   "source": [
    "RD = RawData('marine_data.csv')\n",
    "RD.DataMatrix()"
   ]
  },
  {
   "cell_type": "code",
   "execution_count": null,
   "metadata": {
    "collapsed": true
   },
   "outputs": [],
   "source": [
    "from biomass_plotter import "
   ]
  }
 ],
 "metadata": {
  "kernelspec": {
   "display_name": "Python 2",
   "language": "python",
   "name": "python2"
  },
  "language_info": {
   "codemirror_mode": {
    "name": "ipython",
    "version": 2
   },
   "file_extension": ".py",
   "mimetype": "text/x-python",
   "name": "python",
   "nbconvert_exporter": "python",
   "pygments_lexer": "ipython2",
   "version": "2.7.9"
  }
 },
 "nbformat": 4,
 "nbformat_minor": 0
}
