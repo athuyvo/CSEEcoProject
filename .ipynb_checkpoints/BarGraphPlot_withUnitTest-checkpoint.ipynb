{
 "cells": [
  {
   "cell_type": "code",
   "execution_count": 1,
   "metadata": {
    "collapsed": true
   },
   "outputs": [],
   "source": [
    "from csv_raw_file_reader import RawData\n",
    "from csv_new_file_reader import NewData\n",
    "\n",
    "import math \n",
    "import numpy as np\n",
    "import matplotlib.pyplot as plt"
   ]
  },
  {
   "cell_type": "code",
   "execution_count": 2,
   "metadata": {
    "collapsed": false
   },
   "outputs": [
    {
     "name": "stdout",
     "output_type": "stream",
     "text": [
      "Enter filename in \"quotes\": \"marine_data.csv\"\n",
      "marine data,,,\n",
      "\n",
      "harbor seals,0.050022,-24.594,0.03\n",
      "\n",
      "pacific cod,0.1352,-3.784,0.04\n",
      "\n",
      "shrimp,2.025,-12,0.02\n",
      "\n",
      "microzooplankton,80,-285.714,0.5\n",
      "\n",
      "small gelatinous zooplankton,7.2,-30,0\n",
      "\n"
     ]
    }
   ],
   "source": [
    "filename = input('Enter filename in \"quotes\": ')\n",
    "try:\n",
    "  for line in open(filename, 'r'):\n",
    "    print line\n",
    "except Exception as e:\n",
    "    print \"File %s not found.\" % filename"
   ]
  },
  {
   "cell_type": "code",
   "execution_count": 3,
   "metadata": {
    "collapsed": false
   },
   "outputs": [
    {
     "name": "stdout",
     "output_type": "stream",
     "text": [
      "Enter filename2 in \"quotes\": \"marine_data_2.csv\"\n",
      "marine data,,,\n",
      "\n",
      "harbor seals,0.050022,-24.594,0.01\n",
      "\n",
      "pacific cod,0.1352,-3.784,0.02\n",
      "\n",
      "shrimp,2.025,-12,0.3\n",
      "\n",
      "microzooplankton,80,-285.714,0.5\n",
      "\n",
      "small gelatinous zooplankton,7.2,-30,0.0001\n",
      "\n"
     ]
    }
   ],
   "source": [
    "filename2 = input('Enter filename2 in \"quotes\": ')\n",
    "try:\n",
    "  for line in open(filename2, 'r'):\n",
    "    print line\n",
    "except Exception as e:\n",
    "    print \"File %s not found.\" % filename2"
   ]
  },
  {
   "cell_type": "code",
   "execution_count": 5,
   "metadata": {
    "collapsed": false
   },
   "outputs": [],
   "source": [
    "x = RawData(filename)"
   ]
  },
  {
   "cell_type": "code",
   "execution_count": 6,
   "metadata": {
    "collapsed": false
   },
   "outputs": [
    {
     "name": "stdout",
     "output_type": "stream",
     "text": [
      "[[  5.99736116e-01]\n",
      " [  1.09392826e+02]\n",
      " [  2.04425903e+02]\n",
      " [  3.06701354e+01]\n",
      " [  1.21706765e+03]]\n"
     ]
    }
   ],
   "source": [
    "BioMass = x.DataMatrix()\n",
    "print BioMass"
   ]
  },
  {
   "cell_type": "code",
   "execution_count": 7,
   "metadata": {
    "collapsed": true
   },
   "outputs": [],
   "source": [
    "y = NewData(filename2)"
   ]
  },
  {
   "cell_type": "code",
   "execution_count": 8,
   "metadata": {
    "collapsed": false
   },
   "outputs": [
    {
     "name": "stdout",
     "output_type": "stream",
     "text": [
      "[[  1.99912039e-01]\n",
      " [  3.65135849e+01]\n",
      " [  6.83789656e+01]\n",
      " [  1.02630948e+01]\n",
      " [  4.07265275e+02]]\n"
     ]
    }
   ],
   "source": [
    "NewBioMass = y.DataMatrix()\n",
    "print NewBioMass"
   ]
  },
  {
   "cell_type": "code",
   "execution_count": 9,
   "metadata": {
    "collapsed": true
   },
   "outputs": [],
   "source": [
    "n_groups = 5\n",
    "fig, ax = plt.subplots()\n",
    "index = np.arange(n_groups)\n",
    "bar_width = 0.35\n",
    "opacity = 0.4\n",
    "    "
   ]
  },
  {
   "cell_type": "code",
   "execution_count": 10,
   "metadata": {
    "collapsed": false
   },
   "outputs": [],
   "source": [
    "origBiomass = plt.bar(index, BioMass, bar_width,       \n",
    "                 alpha=opacity,\n",
    "                 color='b',\n",
    "                 label='BioMass')"
   ]
  },
  {
   "cell_type": "code",
   "execution_count": 11,
   "metadata": {
    "collapsed": false
   },
   "outputs": [],
   "source": [
    "newBiomass = plt.bar(index, NewBioMass, bar_width,   \n",
    "                 alpha=opacity,\n",
    "                 color='r',\n",
    "                 label='NewBioMass')"
   ]
  },
  {
   "cell_type": "code",
   "execution_count": 12,
   "metadata": {
    "collapsed": false
   },
   "outputs": [
    {
     "data": {
      "text/plain": [
       "(0, 1826.0)"
      ]
     },
     "execution_count": 12,
     "metadata": {},
     "output_type": "execute_result"
    }
   ],
   "source": [
    "high = max(BioMass)\n",
    "low = min(BioMass)\n",
    "plt.ylim([0, math.ceil(high+0.5*(high-low))])\n"
   ]
  },
  {
   "cell_type": "code",
   "execution_count": null,
   "metadata": {
    "collapsed": false
   },
   "outputs": [],
   "source": [
    "Animal_1 = input('Enter first animal in \"quotes\": ')\n",
    "\n"
   ]
  },
  {
   "cell_type": "code",
   "execution_count": 11,
   "metadata": {
    "collapsed": false
   },
   "outputs": [
    {
     "name": "stdout",
     "output_type": "stream",
     "text": [
      "Enter second animal in \"quotes\": \"b\"\n"
     ]
    }
   ],
   "source": [
    "Animal_2 = input('Enter second animal in \"quotes\": ')"
   ]
  },
  {
   "cell_type": "code",
   "execution_count": 12,
   "metadata": {
    "collapsed": false
   },
   "outputs": [
    {
     "name": "stdout",
     "output_type": "stream",
     "text": [
      "Enter third animal in \"quotes\": \"c\"\n"
     ]
    }
   ],
   "source": [
    "Animal_3 = input('Enter third animal in \"quotes\": ')"
   ]
  },
  {
   "cell_type": "code",
   "execution_count": 13,
   "metadata": {
    "collapsed": false
   },
   "outputs": [
    {
     "name": "stdout",
     "output_type": "stream",
     "text": [
      "Enter fourth animal in \"quotes\": \"d\"\n"
     ]
    }
   ],
   "source": [
    "Animal_4 = input('Enter fourth animal in \"quotes\": ')"
   ]
  },
  {
   "cell_type": "code",
   "execution_count": 14,
   "metadata": {
    "collapsed": false
   },
   "outputs": [
    {
     "name": "stdout",
     "output_type": "stream",
     "text": [
      "Enter fifth animal in \"quotes\": \"e\"\n"
     ]
    }
   ],
   "source": [
    "Animal_5 = input('Enter fifth animal in \"quotes\": ')"
   ]
  },
  {
   "cell_type": "code",
   "execution_count": 15,
   "metadata": {
    "collapsed": false
   },
   "outputs": [
    {
     "data": {
      "text/plain": [
       "<matplotlib.legend.Legend at 0x109d6a910>"
      ]
     },
     "execution_count": 15,
     "metadata": {},
     "output_type": "execute_result"
    }
   ],
   "source": [
    "plt.xlabel('Animals')\n",
    "plt.ylabel('Biomass (kg)')\n",
    "plt.title('Ecosystem Model: Biomass')\n",
    "plt.xticks(index + bar_width, (Animal_1, Animal_2, Animal_3, Animal_4, Animal_5))\n",
    "plt.legend()"
   ]
  },
  {
   "cell_type": "code",
   "execution_count": null,
   "metadata": {
    "collapsed": true
   },
   "outputs": [],
   "source": [
    "plt.tight_layout()\n",
    "plt.show()"
   ]
  },
  {
   "cell_type": "code",
   "execution_count": null,
   "metadata": {
    "collapsed": true
   },
   "outputs": [],
   "source": []
  },
  {
   "cell_type": "code",
   "execution_count": null,
   "metadata": {
    "collapsed": true
   },
   "outputs": [],
   "source": []
  },
  {
   "cell_type": "code",
   "execution_count": null,
   "metadata": {
    "collapsed": true
   },
   "outputs": [],
   "source": []
  }
 ],
 "metadata": {
  "kernelspec": {
   "display_name": "Python 2",
   "language": "python",
   "name": "python2"
  },
  "language_info": {
   "codemirror_mode": {
    "name": "ipython",
    "version": 2
   },
   "file_extension": ".py",
   "mimetype": "text/x-python",
   "name": "python",
   "nbconvert_exporter": "python",
   "pygments_lexer": "ipython2",
   "version": "2.7.9"
  }
 },
 "nbformat": 4,
 "nbformat_minor": 0
}
